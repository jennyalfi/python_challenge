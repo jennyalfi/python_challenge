{
 "cells": [
  {
   "cell_type": "markdown",
   "id": "4f48b1de",
   "metadata": {},
   "source": [
    "# PyPoll"
   ]
  },
  {
   "cell_type": "code",
   "execution_count": 1,
   "id": "6602f018",
   "metadata": {},
   "outputs": [],
   "source": [
    "# Dependencies\n",
    "import pandas as pd"
   ]
  },
  {
   "cell_type": "code",
   "execution_count": 2,
   "id": "dc6c3df0",
   "metadata": {},
   "outputs": [
    {
     "name": "stdout",
     "output_type": "stream",
     "text": [
      "   Ballot ID     County                Candidate\n",
      "0    1323913  Jefferson  Charles Casper Stockham\n",
      "1    1005842  Jefferson  Charles Casper Stockham\n",
      "2    1880345  Jefferson  Charles Casper Stockham\n",
      "3    1600337  Jefferson  Charles Casper Stockham\n",
      "4    1835994  Jefferson  Charles Casper Stockham\n"
     ]
    }
   ],
   "source": [
    "# Read data and store in dataframe\n",
    "election_dataset = pd.read_csv(\"Resources/election_data.csv\")\n",
    "print(election_dataset.head())"
   ]
  },
  {
   "cell_type": "code",
   "execution_count": 3,
   "id": "89298f66",
   "metadata": {},
   "outputs": [
    {
     "data": {
      "text/plain": [
       "369711"
      ]
     },
     "execution_count": 3,
     "metadata": {},
     "output_type": "execute_result"
    }
   ],
   "source": [
    "# The total number of votes cast\n",
    "total_votes = election_dataset[\"Ballot ID\"].count()\n",
    "total_votes"
   ]
  },
  {
   "cell_type": "code",
   "execution_count": 4,
   "id": "92ce7e5c",
   "metadata": {},
   "outputs": [
    {
     "data": {
      "text/plain": [
       "array(['Charles Casper Stockham', 'Diana DeGette', 'Raymon Anthony Doane'],\n",
       "      dtype=object)"
      ]
     },
     "execution_count": 4,
     "metadata": {},
     "output_type": "execute_result"
    }
   ],
   "source": [
    "# A complete list of candidates who received votes\n",
    "candidate_list = election_dataset[\"Candidate\"].unique()\n",
    "candidate_list\n"
   ]
  },
  {
   "cell_type": "code",
   "execution_count": 5,
   "id": "bcd390b7",
   "metadata": {},
   "outputs": [
    {
     "data": {
      "text/plain": [
       "Diana DeGette              272892\n",
       "Charles Casper Stockham     85213\n",
       "Raymon Anthony Doane        11606\n",
       "Name: Candidate, dtype: int64"
      ]
     },
     "execution_count": 5,
     "metadata": {},
     "output_type": "execute_result"
    }
   ],
   "source": [
    "# Total votes each candidate\n",
    "votes_candidate = election_dataset[\"Candidate\"].value_counts()\n",
    "votes_candidate\n"
   ]
  },
  {
   "cell_type": "code",
   "execution_count": 6,
   "id": "33489ec4",
   "metadata": {},
   "outputs": [
    {
     "data": {
      "text/plain": [
       "Diana DeGette              73.812248\n",
       "Charles Casper Stockham    23.048543\n",
       "Raymon Anthony Doane        3.139209\n",
       "Name: Candidate, dtype: float64"
      ]
     },
     "execution_count": 6,
     "metadata": {},
     "output_type": "execute_result"
    }
   ],
   "source": [
    "# The percentage of votes each candidate won\n",
    "percentage_votes = (votes_candidate / total_votes) * 100\n",
    "percentage_votes"
   ]
  },
  {
   "cell_type": "code",
   "execution_count": 7,
   "id": "01548e88",
   "metadata": {},
   "outputs": [
    {
     "data": {
      "text/plain": [
       "'Diana DeGette'"
      ]
     },
     "execution_count": 7,
     "metadata": {},
     "output_type": "execute_result"
    }
   ],
   "source": [
    "# The winner of the election based on popular vote\n",
    "winner = votes_candidate.idxmax()\n",
    "winner"
   ]
  },
  {
   "cell_type": "code",
   "execution_count": 8,
   "id": "c167b3ab",
   "metadata": {},
   "outputs": [
    {
     "name": "stdout",
     "output_type": "stream",
     "text": [
      "Candidate   Percentage of Votes\n",
      "--------------------------------\n",
      "Diana DeGette    73.81%\n",
      "Charles Casper Stockham    23.05%\n",
      "Raymon Anthony Doane    3.14%\n"
     ]
    }
   ],
   "source": [
    "# Display the results\n",
    "print(\"Candidate   Percentage of Votes\")\n",
    "print(\"--------------------------------\")\n",
    "for candidate, percentage in percentage_votes.items():\n",
    "    print(f\"{candidate}    {percentage:.2f}%\")"
   ]
  },
  {
   "cell_type": "code",
   "execution_count": 9,
   "id": "f4e40f72",
   "metadata": {},
   "outputs": [
    {
     "name": "stdout",
     "output_type": "stream",
     "text": [
      "Election results written to 'election_results.txt'\n"
     ]
    }
   ],
   "source": [
    "# Print results to text file\n",
    "with open(\"PyPoll_Analysis/pypoll_analysis.txt\", \"w\") as file:\n",
    "    file.write(\"Election Results\\n\")\n",
    "    file.write(\"-------------------------\\n\")\n",
    "    file.write(f\"Total Votes: {total_votes}\\n\")\n",
    "    file.write(\"-------------------------\\n\")\n",
    "    \n",
    "    for candidate, percentage in percentage_votes.items():\n",
    "        votes = votes_candidate[candidate]\n",
    "        file.write(f\"{candidate}: {percentage:.3f}% ({votes})\\n\")\n",
    "    \n",
    "    file.write(\"-------------------------\\n\")\n",
    "    file.write(f\"Winner: {winner}\\n\")\n",
    "    file.write(\"-------------------------\\n\")\n",
    "\n",
    "print(\"Election results written to 'election_results.txt'\")\n",
    "    \n",
    "   "
   ]
  },
  {
   "cell_type": "code",
   "execution_count": null,
   "id": "2fa4ae83",
   "metadata": {},
   "outputs": [],
   "source": []
  }
 ],
 "metadata": {
  "kernelspec": {
   "display_name": "PythonData",
   "language": "python",
   "name": "pythondata"
  },
  "language_info": {
   "codemirror_mode": {
    "name": "ipython",
    "version": 3
   },
   "file_extension": ".py",
   "mimetype": "text/x-python",
   "name": "python",
   "nbconvert_exporter": "python",
   "pygments_lexer": "ipython3",
   "version": "3.7.7"
  }
 },
 "nbformat": 4,
 "nbformat_minor": 5
}
