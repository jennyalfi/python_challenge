{
 "cells": [
  {
   "cell_type": "markdown",
   "id": "51d41ab6",
   "metadata": {},
   "source": [
    "### PyBank"
   ]
  },
  {
   "cell_type": "code",
   "execution_count": 1,
   "id": "219af02e",
   "metadata": {},
   "outputs": [],
   "source": [
    "# Dependencies\n",
    "import pandas as pd"
   ]
  },
  {
   "cell_type": "code",
   "execution_count": 5,
   "id": "95b16f1a",
   "metadata": {},
   "outputs": [
    {
     "name": "stdout",
     "output_type": "stream",
     "text": [
      "     Date  Profit/Losses\n",
      "0  Jan-10        1088983\n",
      "1  Feb-10        -354534\n",
      "2  Mar-10         276622\n",
      "3  Apr-10        -728133\n",
      "4  May-10         852993\n"
     ]
    }
   ],
   "source": [
    "# Read data and store in dataframe\n",
    "financial_dataset = pd.read_csv(\"Resources/budget_data.csv\")\n",
    "print(financial_dataset.head())"
   ]
  },
  {
   "cell_type": "code",
   "execution_count": 6,
   "id": "67fd8836",
   "metadata": {},
   "outputs": [
    {
     "name": "stdout",
     "output_type": "stream",
     "text": [
      "Financial Analysis\n",
      "--------------------\n",
      "Total Months: 86\n"
     ]
    }
   ],
   "source": [
    "# The total number of months included in the dataset\n",
    "print(\"Financial Analysis\")\n",
    "print(\"--------------------\")\n",
    "\n",
    "number_months = financial_dataset[\"Date\"].count()\n",
    "\n",
    "print(f\"Total Months: {number_months}\")"
   ]
  },
  {
   "cell_type": "code",
   "execution_count": 7,
   "id": "98dd9ea3",
   "metadata": {},
   "outputs": [
    {
     "name": "stdout",
     "output_type": "stream",
     "text": [
      "Total: $22564198\n"
     ]
    }
   ],
   "source": [
    "# The net total amount of \"Profit/Losses\" over the entire period\n",
    "net_total_pl = financial_dataset[\"Profit/Losses\"].sum()\n",
    "print(f\"Total: ${net_total_pl}\")"
   ]
  },
  {
   "cell_type": "code",
   "execution_count": 10,
   "id": "3475ecb1",
   "metadata": {},
   "outputs": [
    {
     "name": "stdout",
     "output_type": "stream",
     "text": [
      "     Date  Profit/Losses  Profit/Losses Change\n",
      "0  Jan-10        1088983                   NaN\n",
      "1  Feb-10        -354534            -1443517.0\n",
      "2  Mar-10         276622              631156.0\n",
      "3  Apr-10        -728133            -1004755.0\n",
      "4  May-10         852993             1581126.0\n",
      "Average Change: $ -8311.11\n"
     ]
    }
   ],
   "source": [
    "# The changes in \"Profit/Losses\" over the entire period, \n",
    "# and then the average of those changes\n",
    "\n",
    "# Add new column showing the P/L change\n",
    "financial_dataset[\"Profit/Losses Change\"] = financial_dataset[\"Profit/Losses\"].diff()\n",
    "financial_dataset.head\n",
    "\n",
    "# Calculate the average PL change\n",
    "average_change = financial_dataset[\"Profit/Losses Change\"].mean()\n",
    "print(\"Average Change: $\", round(average_change, 2))"
   ]
  },
  {
   "cell_type": "code",
   "execution_count": 21,
   "id": "990f6d8f",
   "metadata": {},
   "outputs": [
    {
     "name": "stdout",
     "output_type": "stream",
     "text": [
      "Greatest Increase in Profits: Aug-16 ($1862002)\n"
     ]
    }
   ],
   "source": [
    "# The greatest increase in profits (date and amount) over the entire period\n",
    "#greatest_inc = financial_dataset[\"Profit/Losses Change\"].max()\n",
    "#print(greatest_inc)\n",
    "\n",
    "greatest_inc = financial_dataset[financial_dataset[\"Profit/Losses Change\"] == financial_dataset[\"Profit/Losses Change\"].max()]\n",
    "\n",
    "greatest_inc_date = greatest_inc.iloc[0][\"Date\"]\n",
    "greatest_inc_amount = greatest_inc.iloc[0][\"Profit/Losses Change\"]\n",
    "\n",
    "print(f\"Greatest Increase in Profits: {greatest_inc_date} (${greatest_inc_amount:.0f})\")"
   ]
  },
  {
   "cell_type": "code",
   "execution_count": 23,
   "id": "8b3817d0",
   "metadata": {},
   "outputs": [
    {
     "name": "stdout",
     "output_type": "stream",
     "text": [
      "Greatest Decrease in Profits: Feb-14 ($-1825558)\n"
     ]
    }
   ],
   "source": [
    "# The greatest decrease in profits (date and amount) over the entire period\n",
    "greatest_dec = financial_dataset[financial_dataset[\"Profit/Losses Change\"] == financial_dataset[\"Profit/Losses Change\"].min()]\n",
    "\n",
    "greatest_dec_date = greatest_dec.iloc[0][\"Date\"]\n",
    "greatest_dec_amount = greatest_dec.iloc[0][\"Profit/Losses Change\"]\n",
    "\n",
    "print(f\"Greatest Decrease in Profits: {greatest_dec_date} (${greatest_dec_amount:.0f})\")"
   ]
  },
  {
   "cell_type": "code",
   "execution_count": 27,
   "id": "f4cac36b",
   "metadata": {},
   "outputs": [],
   "source": [
    "# Print results to text file\n",
    "# results = (\n",
    "# \"Financial Analysis\"\n",
    "# \"--------------------\"\n",
    "# f\"Total Months: {number_months}\"\n",
    "# f\"Total: ${net_total_pl}\"\n",
    "# f\"Average Change: $\", round(average_change, 2)    \n",
    "# f\"Greatest Increase in Profits: {greatest_inc_date} (${greatest_inc_amount:.0f})\"\n",
    "# f\"Greatest Decrease in Profits: {greatest_dec_date} (${greatest_dec_amount:.0f})\"\n",
    "    \n",
    "#results\n",
    "#text_file = \"PyBank_Analysis/pybank_analysis.txt\""
   ]
  },
  {
   "cell_type": "code",
   "execution_count": null,
   "id": "cb686a45",
   "metadata": {},
   "outputs": [],
   "source": []
  }
 ],
 "metadata": {
  "kernelspec": {
   "display_name": "PythonData",
   "language": "python",
   "name": "pythondata"
  },
  "language_info": {
   "codemirror_mode": {
    "name": "ipython",
    "version": 3
   },
   "file_extension": ".py",
   "mimetype": "text/x-python",
   "name": "python",
   "nbconvert_exporter": "python",
   "pygments_lexer": "ipython3",
   "version": "3.7.7"
  }
 },
 "nbformat": 4,
 "nbformat_minor": 5
}
