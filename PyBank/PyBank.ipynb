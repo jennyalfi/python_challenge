{
 "cells": [
  {
   "cell_type": "markdown",
   "id": "2ca84f2c",
   "metadata": {},
   "source": [
    "### PyBank"
   ]
  },
  {
   "cell_type": "code",
   "execution_count": 1,
   "id": "7ad01564",
   "metadata": {},
   "outputs": [],
   "source": [
    "# Dependencies\n",
    "import pandas as pd"
   ]
  },
  {
   "cell_type": "code",
   "execution_count": 2,
   "id": "3756628f",
   "metadata": {},
   "outputs": [
    {
     "name": "stdout",
     "output_type": "stream",
     "text": [
      "     Date  Profit/Losses\n",
      "0  Jan-10        1088983\n",
      "1  Feb-10        -354534\n",
      "2  Mar-10         276622\n",
      "3  Apr-10        -728133\n",
      "4  May-10         852993\n"
     ]
    }
   ],
   "source": [
    "# Read data and store in dataframe\n",
    "financial_dataset = pd.read_csv(\"Resources/budget_data.csv\")\n",
    "print(financial_dataset.head())"
   ]
  },
  {
   "cell_type": "code",
   "execution_count": 3,
   "id": "3d501a4b",
   "metadata": {},
   "outputs": [
    {
     "name": "stdout",
     "output_type": "stream",
     "text": [
      "Financial Analysis\n",
      "--------------------\n",
      "Total Months: 86\n"
     ]
    }
   ],
   "source": [
    "# The total number of months included in the dataset\n",
    "print(\"Financial Analysis\")\n",
    "print(\"--------------------\")\n",
    "\n",
    "number_months = financial_dataset[\"Date\"].count()\n",
    "\n",
    "print(f\"Total Months: {number_months}\")"
   ]
  },
  {
   "cell_type": "code",
   "execution_count": 4,
   "id": "4a2cc6d3",
   "metadata": {},
   "outputs": [
    {
     "name": "stdout",
     "output_type": "stream",
     "text": [
      "Total: $22564198\n"
     ]
    }
   ],
   "source": [
    "# The net total amount of \"Profit/Losses\" over the entire period\n",
    "net_total_pl = financial_dataset[\"Profit/Losses\"].sum()\n",
    "print(f\"Total: ${net_total_pl}\")"
   ]
  },
  {
   "cell_type": "code",
   "execution_count": 5,
   "id": "ca9dfda3",
   "metadata": {},
   "outputs": [
    {
     "name": "stdout",
     "output_type": "stream",
     "text": [
      "Average Change: $ -8311.11\n"
     ]
    }
   ],
   "source": [
    "# The changes in \"Profit/Losses\" over the entire period, \n",
    "# and then the average of those changes\n",
    "\n",
    "# Add new column showing the P/L change\n",
    "financial_dataset[\"Profit/Losses Change\"] = financial_dataset[\"Profit/Losses\"].diff()\n",
    "financial_dataset.head\n",
    "\n",
    "# Calculate the average PL change\n",
    "average_change = financial_dataset[\"Profit/Losses Change\"].mean()\n",
    "print(\"Average Change: $\", round(average_change, 2))"
   ]
  },
  {
   "cell_type": "code",
   "execution_count": 6,
   "id": "90554bcb",
   "metadata": {},
   "outputs": [
    {
     "name": "stdout",
     "output_type": "stream",
     "text": [
      "Greatest Increase in Profits: Aug-16 ($1862002)\n"
     ]
    }
   ],
   "source": [
    "# The greatest increase in profits (date and amount) over the entire period\n",
    "#greatest_inc = financial_dataset[\"Profit/Losses Change\"].max()\n",
    "#print(greatest_inc)\n",
    "\n",
    "greatest_inc = financial_dataset[financial_dataset[\"Profit/Losses Change\"] == financial_dataset[\"Profit/Losses Change\"].max()]\n",
    "\n",
    "greatest_inc_date = greatest_inc.iloc[0][\"Date\"]\n",
    "greatest_inc_amount = greatest_inc.iloc[0][\"Profit/Losses Change\"]\n",
    "\n",
    "print(f\"Greatest Increase in Profits: {greatest_inc_date} (${greatest_inc_amount:.0f})\")"
   ]
  },
  {
   "cell_type": "code",
   "execution_count": 7,
   "id": "c6be2fce",
   "metadata": {},
   "outputs": [
    {
     "name": "stdout",
     "output_type": "stream",
     "text": [
      "Greatest Decrease in Profits: Feb-14 ($-1825558)\n"
     ]
    }
   ],
   "source": [
    "# The greatest decrease in profits (date and amount) over the entire period\n",
    "greatest_dec = financial_dataset[financial_dataset[\"Profit/Losses Change\"] == financial_dataset[\"Profit/Losses Change\"].min()]\n",
    "\n",
    "greatest_dec_date = greatest_dec.iloc[0][\"Date\"]\n",
    "greatest_dec_amount = greatest_dec.iloc[0][\"Profit/Losses Change\"]\n",
    "\n",
    "print(f\"Greatest Decrease in Profits: {greatest_dec_date} (${greatest_dec_amount:.0f})\")"
   ]
  },
  {
   "cell_type": "code",
   "execution_count": 13,
   "id": "5f9e8f19",
   "metadata": {},
   "outputs": [],
   "source": [
    "# Print results to text file\n",
    "\n",
    "with open(\"PyBank_Analysis/pybank_analysis.txt\", \"w\") as file:\n",
    "    file.write(\"Financial Analysis\\n\")\n",
    "    file.write(\"--------------------\\n\")\n",
    "    file.write(f\"Total Months: {number_months}\\n\")\n",
    "    file.write(f\"Total: ${net_total_pl}\\n\")\n",
    "    file.write(f\"Average Change: ${average_change:.2f}\\n\")    \n",
    "    file.write(f\"Greatest Increase in Profits: {greatest_inc_date} (${greatest_inc_amount:.0f})\\n\")\n",
    "    file.write(f\"Greatest Decrease in Profits: {greatest_dec_date} (${greatest_dec_amount:.0f})\\n\")\n",
    "   \n"
   ]
  },
  {
   "cell_type": "code",
   "execution_count": null,
   "id": "736c0dd9",
   "metadata": {},
   "outputs": [],
   "source": []
  }
 ],
 "metadata": {
  "kernelspec": {
   "display_name": "PythonData",
   "language": "python",
   "name": "pythondata"
  },
  "language_info": {
   "codemirror_mode": {
    "name": "ipython",
    "version": 3
   },
   "file_extension": ".py",
   "mimetype": "text/x-python",
   "name": "python",
   "nbconvert_exporter": "python",
   "pygments_lexer": "ipython3",
   "version": "3.7.7"
  }
 },
 "nbformat": 4,
 "nbformat_minor": 5
}
