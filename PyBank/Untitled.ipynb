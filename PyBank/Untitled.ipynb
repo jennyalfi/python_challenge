{
 "cells": [
  {
   "cell_type": "markdown",
   "id": "42b79ed8",
   "metadata": {},
   "source": [
    "### PyBank"
   ]
  },
  {
   "cell_type": "code",
   "execution_count": null,
   "id": "624f286c",
   "metadata": {},
   "outputs": [],
   "source": []
  },
  {
   "cell_type": "code",
   "execution_count": null,
   "id": "c016d8d5",
   "metadata": {},
   "outputs": [],
   "source": [
    "# The total number of months included in the dataset\n"
   ]
  }
 ],
 "metadata": {
  "kernelspec": {
   "display_name": "PythonData",
   "language": "python",
   "name": "pythondata"
  },
  "language_info": {
   "codemirror_mode": {
    "name": "ipython",
    "version": 3
   },
   "file_extension": ".py",
   "mimetype": "text/x-python",
   "name": "python",
   "nbconvert_exporter": "python",
   "pygments_lexer": "ipython3",
   "version": "3.7.7"
  }
 },
 "nbformat": 4,
 "nbformat_minor": 5
}
